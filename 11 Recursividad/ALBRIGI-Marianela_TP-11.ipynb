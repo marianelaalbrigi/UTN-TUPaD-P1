{
 "cells": [
  {
   "cell_type": "markdown",
   "id": "3a89f2c7",
   "metadata": {},
   "source": [
    "EJERCITACION 1:\n",
    "Crea una función recursiva que calcule el factorial de un número. Luego, utiliza esa función para calcular y mostrar en pantalla el factorial de todos los números enteros\n",
    "entre 1 y el número que indique el usuario."
   ]
  },
  {
   "cell_type": "code",
   "execution_count": null,
   "id": "2ca1f7f4",
   "metadata": {},
   "outputs": [
    {
     "name": "stdout",
     "output_type": "stream",
     "text": [
      "3!: 6\n",
      "2!: 2\n",
      "1!: 1\n"
     ]
    }
   ],
   "source": [
    "def funcion_factorial(num):\n",
    "    return 1 if num == 0 else num*funcion_factorial(num-1)\n",
    "\n",
    "\n",
    "def impresion_factorial(num):\n",
    "    if num == 0:\n",
    "        return 0\n",
    "    else:\n",
    "        print(f\"{num}!: {funcion_factorial(num)}\")\n",
    "        impresion_factorial(num-1)\n",
    "\n",
    "\n",
    "factorial_input = int(input(\"Ingrese un número entero: \"))\n",
    "impresion_factorial(factorial_input)"
   ]
  },
  {
   "cell_type": "markdown",
   "id": "c5c0c96a",
   "metadata": {},
   "source": [
    "EJERCITACIÓN 2:\n",
    "Crea una función recursiva que calcule el valor de la serie de Fibonacci en la posición indicada. Posteriormente, muestra la serie completa hasta la posición que el usuario especifique."
   ]
  },
  {
   "cell_type": "code",
   "execution_count": 12,
   "id": "f710e58f",
   "metadata": {},
   "outputs": [
    {
     "name": "stdout",
     "output_type": "stream",
     "text": [
      "Posicion 5: 5\n",
      "Posicion 4: 3\n",
      "Posicion 3: 2\n",
      "Posicion 2: 1\n",
      "Posicion 1: 1\n",
      "Posición 0: 0\n"
     ]
    }
   ],
   "source": [
    "def funcion_fibonacci(num):\n",
    "    if num == 0:\n",
    "        return 0\n",
    "    elif num == 1:\n",
    "        return 1\n",
    "    else:\n",
    "        return funcion_fibonacci(num-1)+funcion_fibonacci(num-2)\n",
    "\n",
    "def impresion_fibonacci(num):\n",
    "    posicion=num\n",
    "    if num == 0:\n",
    "        print(f\"Posición 0: 0\")\n",
    "    else:\n",
    "        print(f\"Posicion {num}: {funcion_fibonacci(num)}\")\n",
    "        posicion-=1\n",
    "        impresion_fibonacci(num-1)\n",
    "\n",
    "\n",
    "fibonacci_input = int(\n",
    "    input(\"Indique la posición limite hasta donde calcular una serie fibonacci: \"))\n",
    "impresion_fibonacci(fibonacci_input)"
   ]
  },
  {
   "cell_type": "markdown",
   "id": "041d3acc",
   "metadata": {},
   "source": [
    "EJERCITACIÓN 3:\n",
    "Crea una función recursiva que calcule la potencia de un número base elevado a un\n",
    "exponente, utilizando la fórmula 𝑛 **𝑚 = 𝑛 ∗ (𝑛**(𝑚−1))\n",
    "Prueba esta función en un algoritmo general."
   ]
  },
  {
   "cell_type": "code",
   "execution_count": 17,
   "id": "c4072054",
   "metadata": {},
   "outputs": [
    {
     "name": "stdout",
     "output_type": "stream",
     "text": [
      "El resultado de 2^3 es: 8\n"
     ]
    }
   ],
   "source": [
    "def funcion_potencia(base,exponente):\n",
    "    if exponente==0:\n",
    "        return 1\n",
    "    else:\n",
    "        return base*(funcion_potencia(base,exponente-1))\n",
    "\n",
    "base_input=int(input(\"Ingrese la base de la potencia: \"))\n",
    "exponente_input=int(input(\"Ingrese el exponente de la potencia: \"))\n",
    "\n",
    "print(f\"El resultado de {base_input}^{exponente_input} es: {funcion_potencia(base_input,exponente_input)}\")"
   ]
  },
  {
   "cell_type": "markdown",
   "id": "ef68e640",
   "metadata": {},
   "source": [
    "EJERCITACION 4:\n",
    "Crear una función recursiva en Python que reciba un número entero positivo en base decimal y devuelva su representación en binario como una cadena de texto.\n"
   ]
  },
  {
   "cell_type": "code",
   "execution_count": 3,
   "id": "afff4077",
   "metadata": {},
   "outputs": [
    {
     "name": "stdout",
     "output_type": "stream",
     "text": [
      "11000\n"
     ]
    }
   ],
   "source": [
    "\n",
    "# OPCION 1\n",
    "def devolver_binario(num):\n",
    "    numero=f\"{num%2}\"\n",
    "    if num==1:\n",
    "        numero=\"1\"\n",
    "        return numero\n",
    "    else:\n",
    "        if num//2 >= 1:  \n",
    "            return numero+devolver_binario(num//2)\n",
    "        \n",
    "    \n",
    "# OPCION 2\n",
    "# def devolver_binario(num):\n",
    "#     if num==1:\n",
    "#         numero=\"1\"\n",
    "#         return numero\n",
    "#     else:\n",
    "#         if num//2 >= 1:\n",
    "#             return f\"{num%2}{devolver_binario(num//2)}\"\n",
    "\n",
    "input_decimal=int(input(\"Ingrese un numero decimal:\"))\n",
    "numero_binario=devolver_binario(input_decimal)\n",
    "\n",
    "print(numero_binario[::-1])\n",
    "\n",
    "\n"
   ]
  },
  {
   "cell_type": "markdown",
   "id": "58d36302",
   "metadata": {},
   "source": [
    "EJERCICIO 05: \n",
    "Implementá una función recursiva llamada es_palindromo(palabra) que reciba una cadena de texto sin espacios ni tildes, y devuelva True si es un palíndromo o False si no lo es."
   ]
  },
  {
   "cell_type": "code",
   "execution_count": null,
   "id": "498e1a1f",
   "metadata": {},
   "outputs": [
    {
     "name": "stdout",
     "output_type": "stream",
     "text": [
      "True\n"
     ]
    }
   ],
   "source": [
    "def es_palindromo(palabra, longitud):\n",
    "    \n",
    "    if longitud == 0:\n",
    "        return \"\"\n",
    "    else:\n",
    "        palindromo=f\"{palabra[longitud-1]}{es_palindromo(palabra, longitud-1)}\"\n",
    "    return palindromo\n",
    "    \n",
    "\n",
    "palabra=input(\"Ingrese una frase \") #Pido un frase \n",
    "nueva_palabra=\"\"\n",
    "\n",
    "\n",
    "# TRANSFORMACIÓN DE LA FRASE: saco el espacio entre palabras y paso todo a minuscula\n",
    "#Saco los caracteres que sean espacio \n",
    "for x in palabra: \n",
    "    if not x.isspace():\n",
    "        nueva_palabra+=x\n",
    "\n",
    "#paso la frase todo a minuscula \n",
    "nueva_palabra=nueva_palabra.lower() \n",
    "\n",
    "#saco la longitud de la frase\n",
    "longitud=len(nueva_palabra)\n",
    "\n",
    "#llamo a la funcion\n",
    "palabra_invertida=es_palindromo(nueva_palabra, longitud)\n",
    "\n",
    "#comparo la palabra con el resultado de la funcion\n",
    "comparacion=palabra_invertida==nueva_palabra\n",
    "print(comparacion)"
   ]
  },
  {
   "cell_type": "markdown",
   "id": "e5885e78",
   "metadata": {},
   "source": [
    "EJERCICIO 6:\n",
    "Escribí una función recursiva en Python llamada suma_digitos(n) que reciba un número entero positivo y devuelva la suma de todos sus dígitos."
   ]
  },
  {
   "cell_type": "code",
   "execution_count": 53,
   "id": "dd673123",
   "metadata": {},
   "outputs": [
    {
     "name": "stdout",
     "output_type": "stream",
     "text": [
      "10\n"
     ]
    }
   ],
   "source": [
    "def suma_digitos(n):\n",
    "    if n == 0:\n",
    "        return 0\n",
    "    else:\n",
    "        return (n%10)+suma_digitos(n//10)\n",
    "    \n",
    "input_numero=int(input(\"Ingrese un número entero: \"))\n",
    "\n",
    "print(suma_digitos(input_numero)) "
   ]
  },
  {
   "cell_type": "markdown",
   "id": "67bb68e4",
   "metadata": {},
   "source": [
    "EJERICICIO 7:\n",
    "Un niño está construyendo una pirámide con bloques. En el nivel más bajo coloca n bloques, en el siguiente nivel uno menos (n - 1), y así sucesivamente hasta llegar al último nivel con un solo bloque. Escribí una función recursiva contar_bloques(n) que reciba el número de bloques en el nivel más bajo y devuelva el total de bloques que necesita para construir toda la\n",
    "pirámide."
   ]
  },
  {
   "cell_type": "code",
   "execution_count": 58,
   "id": "fb852f32",
   "metadata": {},
   "outputs": [
    {
     "name": "stdout",
     "output_type": "stream",
     "text": [
      "Con una base de 4 bloques, se necesita un total de 10 bloques para construir toda la pirámide.\n"
     ]
    }
   ],
   "source": [
    "def contar_bloques(n_bloques):\n",
    "    if n_bloques==0:\n",
    "        return 0\n",
    "    else:\n",
    "        return n_bloques+contar_bloques(n_bloques-1)\n",
    "    \n",
    "input_bloques=int(input(\"Ingrese el número de bloques para la base de la pirámide: \"))\n",
    "total_bloques=contar_bloques(input_bloques)\n",
    "print(f\"Con una base de {input_bloques} bloques, se necesita un total de {total_bloques} bloques para construir toda la pirámide.\")"
   ]
  },
  {
   "cell_type": "markdown",
   "id": "732f9324",
   "metadata": {},
   "source": [
    "EJERCICIO 8:\n",
    "Escribí una función recursiva llamada contar_digito(numero, digito) que reciba un número entero positivo (numero) y un dígito (entre 0 y 9), y devuelva cuántas veces aparece ese dígito dentro del número."
   ]
  },
  {
   "cell_type": "code",
   "execution_count": null,
   "id": "5557f457",
   "metadata": {},
   "outputs": [
    {
     "name": "stdout",
     "output_type": "stream",
     "text": [
      "El digito 4 aparece 1 veces en el número 1254850002\n"
     ]
    }
   ],
   "source": [
    "def contar_digitos(numero, digito):\n",
    "    frecuencia=0\n",
    "    if numero == 0:\n",
    "        return 0\n",
    "    else:\n",
    "        frecuencia = 1 if digito == numero%10 else 0\n",
    "    return frecuencia+contar_digitos(numero//10, digito)\n",
    "    \n",
    "\n",
    "numero_ingresado=int(input(\"Ingrese un número: \"))\n",
    "\n",
    "digito_ingresado=int(input(\"Ingrese el dígito que desea buscar: \"))\n",
    "\n",
    "while 0 > digito_ingresado or digito_ingresado > 9:\n",
    "    digito_ingresado=int(input(\"Debe ingresar un dígito entre 0 y 9: \"))\n",
    "\n",
    "frecuencia=contar_digitos(numero_ingresado, digito_ingresado)\n",
    "\n",
    "print(f\"El digito {digito_ingresado} aparece {frecuencia} veces en el número {numero_ingresado}.\")"
   ]
  }
 ],
 "metadata": {
  "kernelspec": {
   "display_name": "Python 3",
   "language": "python",
   "name": "python3"
  },
  "language_info": {
   "codemirror_mode": {
    "name": "ipython",
    "version": 3
   },
   "file_extension": ".py",
   "mimetype": "text/x-python",
   "name": "python",
   "nbconvert_exporter": "python",
   "pygments_lexer": "ipython3",
   "version": "3.13.3"
  }
 },
 "nbformat": 4,
 "nbformat_minor": 5
}
