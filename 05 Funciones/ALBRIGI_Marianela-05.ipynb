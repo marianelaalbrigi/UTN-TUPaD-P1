{
 "cells": [
  {
   "cell_type": "markdown",
   "id": "12be0bff",
   "metadata": {},
   "source": [
    "EJERCICIO 1. \n",
    "Crear una función llamada imprimir_hola_mundo que imprima por pantalla el mensaje: “Hola Mundo!”. Llamar a esta función desde el programa principal."
   ]
  },
  {
   "cell_type": "code",
   "execution_count": 15,
   "id": "7038edeb",
   "metadata": {},
   "outputs": [
    {
     "name": "stdout",
     "output_type": "stream",
     "text": [
      "Hola Mundo!\n"
     ]
    }
   ],
   "source": [
    "def imprimir_hola_mundo(mensaje):\n",
    "    print(f\"{mensaje}\")\n",
    "\n",
    "imprimir_hola_mundo(mensaje=\"Hola Mundo!\")"
   ]
  },
  {
   "cell_type": "markdown",
   "id": "e90e1d72",
   "metadata": {},
   "source": [
    "EJERCICIO 2. \n",
    "Crear una función llamada saludar_usuario(nombre) que reciba como parámetro un nombre y devuelva un saludo personalizado.\n",
    "Por ejemplo, si se llama con saludar_usuario(\"Marcos\"), deberá devolver: “Hola Marcos!”. Llamar a esta función desde el programa\n",
    "principal solicitando el nombre al usuario"
   ]
  },
  {
   "cell_type": "code",
   "execution_count": 14,
   "id": "554c5fa1",
   "metadata": {},
   "outputs": [
    {
     "name": "stdout",
     "output_type": "stream",
     "text": [
      "Hola Roberta Gonzalez Gomez!\n"
     ]
    }
   ],
   "source": [
    "def saludar_usuario(nombre):\n",
    "    print(f\"Hola {nombre.title()}!\")\n",
    "\n",
    "# PROGRAMA PRINCIPAL\n",
    "input_nombre=input(\"Ingresá tu nombre\")\n",
    "saludar(nombre=input_nombre)"
   ]
  },
  {
   "cell_type": "markdown",
   "id": "be9ceaf2",
   "metadata": {},
   "source": [
    "EJERCICIO 3. \n",
    "Crear una función llamada informacion_personal(nombre, apellido, edad, residencia) que reciba cuatro parámetros e \n",
    "imprima: “Soy [nombre] [apellido], tengo [edad] años y vivo en [residencia]”. \n",
    "Pedir los datos al usuario y llamar a esta función con los valores ingresados."
   ]
  },
  {
   "cell_type": "code",
   "execution_count": null,
   "id": "afb26d5c",
   "metadata": {},
   "outputs": [
    {
     "name": "stdout",
     "output_type": "stream",
     "text": [
      "Hola, soy Nela Alb, tengo 25 años y vivo en Buenos Aires.\n"
     ]
    }
   ],
   "source": [
    "def solicitar_inputs(mensaje): # Pido info al usuario\n",
    "    input_usuario=input(f\"Ingrese {mensaje}: \")\n",
    "    return input_usuario\n",
    "\n",
    "def impresion_inputs(nombre, apellido, edad, residencia): # Imprimo toda la info junta\n",
    "    print(f\"Hola, soy {nombre.capitalize()} {apellido.capitalize()}, tengo {edad} años y vivo en {residencia.title()}.\")\n",
    "\n",
    "# PROGRAMA PRINCIPAL\n",
    "input_nombre=solicitar_inputs(mensaje=\"su nombre\")\n",
    "input_apellido=solicitar_inputs(mensaje=\"su apellido\")\n",
    "input_edad=int(solicitar_inputs(mensaje=\"su edad\"))\n",
    "input_residencia=solicitar_inputs(mensaje=\"su lugar de residencia\")\n",
    "\n",
    "impresion_inputs(input_nombre, input_apellido, input_edad, input_residencia)"
   ]
  },
  {
   "cell_type": "markdown",
   "id": "8b0903fc",
   "metadata": {},
   "source": [
    "EJERCICIO 4. \n",
    "Crear dos funciones: calcular_area_circulo(radio) que reciba el radio como parámetro y devuelva el área del círculo. calcular_perimetro_circulo(radio) que reciba el radio como parámetro y devuelva el perímetro del círculo. Solicitar el radio al usuario y llamar ambas funciones para mostrar los resultados."
   ]
  },
  {
   "cell_type": "code",
   "execution_count": null,
   "id": "1dbd0ff4",
   "metadata": {},
   "outputs": [
    {
     "name": "stdout",
     "output_type": "stream",
     "text": [
      "El área del círculo es 21 y el perímetro es 16\n"
     ]
    }
   ],
   "source": [
    "def solicitar_inputs(mensaje): # Pido info al usuario\n",
    "    input_usuario=input(f\"Ingrese {mensaje}: \")\n",
    "    return input_usuario\n",
    "\n",
    "def calcular_area_circulo(radio):\n",
    "    area=math.pi*radio**2\n",
    "    return round(area)\n",
    "\n",
    "def calcular_perimetro_circulo(radio):\n",
    "    perimetro=2*math.pi*radio\n",
    "    return round(perimetro)\n",
    "\n",
    "# PROGRAMA PRINCIPAL\n",
    "\n",
    "input_radio=float(solicitar_inputs(mensaje=\"el radio de un círculo\"))\n",
    "print(f\"El área del círculo es {calcular_area_circulo(input_radio)} y el perímetro es {calcular_perimetro_circulo(input_radio)}\")"
   ]
  },
  {
   "cell_type": "markdown",
   "id": "3308817d",
   "metadata": {},
   "source": [
    "EJERCICIO 5. Crear una función llamada segundos_a_horas(segundos) que reciba una cantidad de segundos como parámetro y devuelva la cantidad de horas correspondientes. \n",
    "Solicitar al usuario los segundos y mostrar el resultado usando esta función."
   ]
  },
  {
   "cell_type": "code",
   "execution_count": null,
   "id": "5a706e21",
   "metadata": {},
   "outputs": [
    {
     "data": {
      "text/plain": [
       "'60 segundos equivale a: 0 horas, 1 minutos, 0 segundos.'"
      ]
     },
     "execution_count": 56,
     "metadata": {},
     "output_type": "execute_result"
    }
   ],
   "source": [
    "# si la cantidad de segundos ingresada es menor a 3600segundos(1hora)\n",
    "def segundos_menor(segundos_input): \n",
    "    hora=0\n",
    "    if segundos_input>=60: #averiguo si los segundos es mayor a un minuto.\n",
    "        if segundos_input%60 == 0: #averiguo si quedan segundos que no lleguen a sumar un minuto.\n",
    "            minutos=segundos_input//60\n",
    "            return(f\"0 horas, {minutos} minutos, 0 segundos.\")\n",
    "        else: #si quedan segundos que no lleguen a sumar un minuto.\n",
    "            minutos=segundos_input//60\n",
    "            segundos=segundos_input%60\n",
    "            return(f\"0 horas, {minutos} minutos, {segundos} segundos.\")\n",
    "    else:\n",
    "        return(f\"0 horas, 0 minutos, {segundos_input} segundos.\")\n",
    "\n",
    "\n",
    "# si la cantidad de segundos ingresada es mayor a 3600segundos(1hora)\n",
    "def segundos_mayor(segundos_input): \n",
    "    if segundos_input%3600==0: #averiguo si toda la cantidad de segundos ingresadas forman en fracciones de hora exactas.\n",
    "        hora=segundos_input/3600\n",
    "        return(f\"{hora} horas, 0 minutos, 0 segundos.\")\n",
    "    else: #si hay segundos que no llegan a formar una fraccion de hora, significa que hay minutos.\n",
    "        hora=segundos_input//3600 \n",
    "        if (segundos_input%3600)%60==0: #averiguo si los segundos restantes llegan a formar fracciones de minutos.\n",
    "            minutos=(segundos_input%3600)//60\n",
    "            return(f\"{hora} horas, {minutos} minutos, 0 segundos.\")\n",
    "        else: #si hay segundos que no llegan a formar fraccion de minutos, averiguo cuantos segundos son.\n",
    "            minutos=(segundos_input%3600)//60\n",
    "            segundos=(segundos_input%60)%60\n",
    "            return(f\"{hora} horas, {minutos} minutos, {segundos} segundos.\")\n",
    "\n",
    "\n",
    "def segundos_a_horas(segundos_input): #\n",
    "   if segundos_input >= 3600:\n",
    "       return(f\"{segundos_input} segundos equivale a: {segundos_mayor(segundos_input)}\")\n",
    "   else:\n",
    "       return (f\"{segundos_input} segundos equivale a: {segundos_menor(segundos_input)}\")\n",
    "   \n",
    "\n",
    "# PROGRAMA PRINCIPAL\n",
    "input_segundos=int(input(\"Ingrese una cantidad de segundos: \")) #Pido una cantidad de segundos\n",
    "segundos_a_horas(input_segundos) #llamo a la funcion segundos_a_horas"
   ]
  },
  {
   "cell_type": "markdown",
   "id": "387169ac",
   "metadata": {},
   "source": [
    "EJERCICIO 6. Crear una función llamada tabla_multiplicar(numero) que reciba un número como parámetro y imprima la tabla de multiplicar de ese número del 1 al 10. \n",
    "Pedir al usuario el número y llamar a la función."
   ]
  },
  {
   "cell_type": "code",
   "execution_count": null,
   "id": "47b0124e",
   "metadata": {},
   "outputs": [
    {
     "name": "stdout",
     "output_type": "stream",
     "text": [
      "7x0 = 0\n",
      "7x1 = 7\n",
      "7x2 = 14\n",
      "7x3 = 21\n",
      "7x4 = 28\n",
      "7x5 = 35\n",
      "7x6 = 42\n",
      "7x7 = 49\n",
      "7x8 = 56\n",
      "7x9 = 63\n",
      "7x10 = 70\n"
     ]
    }
   ],
   "source": [
    "def tabla_multiplicar(numero):\n",
    "    resultado=0\n",
    "    for i in range(11):\n",
    "        resultado=numero*i\n",
    "        print(f\"{numero}x{i} = {resultado}\")\n",
    "\n",
    "\n",
    "# PROGRAMA PRINCIPAL\n",
    "num_input=int(input(\"Ingrese un número entero\"))\n",
    "tabla_multiplicar(num_input)"
   ]
  },
  {
   "cell_type": "markdown",
   "id": "04b5fefc",
   "metadata": {},
   "source": [
    "EJERCICIO 7. Crear una función llamada operaciones_basicas(a, b) que reciba dos números como parámetros y devuelva una tupla con el resultado de sumarlos, restarlos, multiplicarlos y dividirlos. Mostrar los resultados de forma clara."
   ]
  },
  {
   "cell_type": "code",
   "execution_count": 72,
   "id": "1d843542",
   "metadata": {},
   "outputs": [
    {
     "name": "stdout",
     "output_type": "stream",
     "text": [
      "['Suma: 18.0, Resta: 2.0, Multiplicación: 80.0, División: 1.0']\n"
     ]
    }
   ],
   "source": [
    "def validacion_numeros(a,b):\n",
    "    while a < b:\n",
    "       b=float(input(\"El número ingresado es mayor que el primero. Ingrese nuevamente el segundo número: \"))\n",
    "    return b\n",
    "\n",
    "def suma(a, b):\n",
    "    suma=a+b\n",
    "    return suma\n",
    "\n",
    "def multiplicacion(a,b):\n",
    "    multiplicacion=a*b\n",
    "    return multiplicacion\n",
    "\n",
    "def division (a,b):\n",
    "    division=a//b\n",
    "    return division\n",
    "\n",
    "def resta (a,b):\n",
    "    resta=a-b\n",
    "    return resta\n",
    "    \n",
    "def operaciones_basicas(a, b):\n",
    "    resultado=[f\"Suma: {suma(a,b)}, Resta: {resta(a,b)}, Multiplicación: {multiplicacion(a,b)}, División: {division(a,b)}\"]\n",
    "    return resultado\n",
    "\n",
    "    \n",
    "# PROGRAMA PRINCIPAL\n",
    "numero1=float(input(\"Ingrese el primer número\"))\n",
    "numero2=float(input(\"Ingrese el segundo número\"))\n",
    "numero2=float(validacion_numeros(numero1,numero2))\n",
    "\n",
    "print(operaciones_basicas(numero1, numero2))"
   ]
  },
  {
   "cell_type": "markdown",
   "id": "30847c22",
   "metadata": {},
   "source": [
    "EJERCICIO 8.\n",
    "Crear una función llamada calcular_imc(peso, altura) que reciba el peso en kilogramos y la altura en metros, y devuelva el índice de masa corporal (IMC). \n",
    "Solicitar al usuario los datos y llamar a la función para mostrar el resultado con dos decimales"
   ]
  },
  {
   "cell_type": "code",
   "execution_count": null,
   "id": "f85809b0",
   "metadata": {},
   "outputs": [
    {
     "name": "stdout",
     "output_type": "stream",
     "text": [
      "Tu IMC es: 20.32\n"
     ]
    }
   ],
   "source": [
    "def solicitar_inputs(mensaje): # Pido info al usuario\n",
    "    input_usuario=input(f\"Ingrese {mensaje}: \")\n",
    "    return input_usuario\n",
    "\n",
    "def calcular_imc(altura, peso):\n",
    "    imc = peso / (altura**2)\n",
    "    print(f\"Tu IMC es: {imc:.2f}\")\n",
    "\n",
    "# PROGRAMA PRINCIPAL\n",
    "input_altura=float(solicitar_inputs(mensaje=\"su altura en metros\"))\n",
    "input_peso=float(solicitar_inputs(mensaje=\"su peso en kilogramos\"))\n",
    "\n",
    "calcular_imc(input_altura, input_peso)"
   ]
  },
  {
   "cell_type": "markdown",
   "id": "39b70b97",
   "metadata": {},
   "source": [
    "EJERCICIO 9. Crear una función llamada celsius_a_fahrenheit(celsius) que reciba una temperatura en grados Celsius y devuelva su equivalente en Fahrenheit.\n",
    "Pedir al usuario la temperatura en Celsius y mostrar el resultado usando la función."
   ]
  },
  {
   "cell_type": "code",
   "execution_count": null,
   "id": "1c4005ee",
   "metadata": {},
   "outputs": [
    {
     "name": "stdout",
     "output_type": "stream",
     "text": [
      "La temperatura ingresada (32.0°C) equivale a 89.6°F\n"
     ]
    }
   ],
   "source": [
    "def celsius_a_fahrenheit(celsius):\n",
    "    fahrenheit=(celsius * 9/5) + 32\n",
    "    return fahrenheit\n",
    "\n",
    "# PROGRAMA PRINCIPAL\n",
    "temp_celsius=float(input(\"Ingrese su temperatura en Celsius: \"))\n",
    "temp_fahrenheit=celsius_a_fahrenheit(temp_celsius)\n",
    "print(f\"La temperatura ingresada ({temp_celsius}°C) equivale a {temp_fahrenheit}°F.\")"
   ]
  },
  {
   "cell_type": "markdown",
   "id": "35d43225",
   "metadata": {},
   "source": [
    "EJERCICIO 10.\n",
    "Crear una función llamada calcular_promedio(a, b, c) que reciba tres números como parámetros y devuelva el promedio de ellos. \n",
    "Solicitar los números al usuario y mostrar el resultado usando esta función."
   ]
  },
  {
   "cell_type": "code",
   "execution_count": 82,
   "id": "ba20bc8d",
   "metadata": {},
   "outputs": [
    {
     "name": "stdout",
     "output_type": "stream",
     "text": [
      "El promedio de los números ingresados (1230.05454, 12.0, 1.0) es: 414.00)\n"
     ]
    }
   ],
   "source": [
    "def solicitar_inputs(mensaje): # Pido info al usuario\n",
    "    input_usuario=input(f\"Ingrese {mensaje}: \")\n",
    "    return input_usuario\n",
    "\n",
    "def calcular_promedio(a, b, c):\n",
    "    promedio=(a+b+c)//3\n",
    "    return promedio\n",
    "\n",
    "# PROGRAMA PRINCIPAL\n",
    "num1=float(solicitar_inputs(mensaje=\"el primer número\"))\n",
    "num2=float(solicitar_inputs(mensaje=\"el segundo número\"))\n",
    "num3=float(solicitar_inputs(mensaje=\"el tercer número\"))\n",
    "\n",
    "resultado = calcular_promedio(num1, num2, num3)\n",
    "print(f\"El promedio de los números ingresados ({num1}, {num2}, {num3}) es: {resultado:.2f})\")\n"
   ]
  }
 ],
 "metadata": {
  "kernelspec": {
   "display_name": "Python 3",
   "language": "python",
   "name": "python3"
  },
  "language_info": {
   "codemirror_mode": {
    "name": "ipython",
    "version": 3
   },
   "file_extension": ".py",
   "mimetype": "text/x-python",
   "name": "python",
   "nbconvert_exporter": "python",
   "pygments_lexer": "ipython3",
   "version": "3.13.3"
  }
 },
 "nbformat": 4,
 "nbformat_minor": 5
}
